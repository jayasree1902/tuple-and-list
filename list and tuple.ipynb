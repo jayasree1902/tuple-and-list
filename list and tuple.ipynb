{
 "cells": [
  {
   "cell_type": "code",
   "execution_count": 1,
   "id": "b8f9ae0d",
   "metadata": {},
   "outputs": [],
   "source": [
    "a=[4,5,6,78,23,12,23,34]"
   ]
  },
  {
   "cell_type": "code",
   "execution_count": 2,
   "id": "3b52faa4",
   "metadata": {},
   "outputs": [
    {
     "data": {
      "text/plain": [
       "list"
      ]
     },
     "execution_count": 2,
     "metadata": {},
     "output_type": "execute_result"
    }
   ],
   "source": [
    "type(a)"
   ]
  },
  {
   "cell_type": "code",
   "execution_count": 3,
   "id": "0063cf23",
   "metadata": {},
   "outputs": [],
   "source": [
    "a=[\"Jayasree\",\"Niharika\",\"Lahari\",\"Sravya\"]"
   ]
  },
  {
   "cell_type": "code",
   "execution_count": 4,
   "id": "b115f768",
   "metadata": {},
   "outputs": [
    {
     "data": {
      "text/plain": [
       "list"
      ]
     },
     "execution_count": 4,
     "metadata": {},
     "output_type": "execute_result"
    }
   ],
   "source": [
    "type(a)"
   ]
  },
  {
   "cell_type": "code",
   "execution_count": 5,
   "id": "46556740",
   "metadata": {},
   "outputs": [],
   "source": [
    "t=()"
   ]
  },
  {
   "cell_type": "code",
   "execution_count": 7,
   "id": "af8f229c",
   "metadata": {},
   "outputs": [
    {
     "data": {
      "text/plain": [
       "tuple"
      ]
     },
     "execution_count": 7,
     "metadata": {},
     "output_type": "execute_result"
    }
   ],
   "source": [
    "type(t)"
   ]
  },
  {
   "cell_type": "code",
   "execution_count": 8,
   "id": "86a41643",
   "metadata": {},
   "outputs": [],
   "source": [
    "t=(3,4,\"jayasree\",\"niharika\",\"lahari\",6.7,True)"
   ]
  },
  {
   "cell_type": "code",
   "execution_count": 9,
   "id": "7ca8e5b9",
   "metadata": {},
   "outputs": [
    {
     "data": {
      "text/plain": [
       "tuple"
      ]
     },
     "execution_count": 9,
     "metadata": {},
     "output_type": "execute_result"
    }
   ],
   "source": [
    "type(t)"
   ]
  },
  {
   "cell_type": "code",
   "execution_count": 10,
   "id": "8be9991d",
   "metadata": {},
   "outputs": [],
   "source": [
    "d={}"
   ]
  },
  {
   "cell_type": "code",
   "execution_count": 11,
   "id": "a1d20a1f",
   "metadata": {},
   "outputs": [
    {
     "data": {
      "text/plain": [
       "dict"
      ]
     },
     "execution_count": 11,
     "metadata": {},
     "output_type": "execute_result"
    }
   ],
   "source": [
    "type(d)"
   ]
  },
  {
   "cell_type": "code",
   "execution_count": 12,
   "id": "6bc030a3",
   "metadata": {},
   "outputs": [],
   "source": [
    "d={\"name\":\"Jayasree\",\"class\":\"sec-1\",\"age\":18}"
   ]
  },
  {
   "cell_type": "code",
   "execution_count": 14,
   "id": "dfa0d7e9",
   "metadata": {},
   "outputs": [
    {
     "data": {
      "text/plain": [
       "dict"
      ]
     },
     "execution_count": 14,
     "metadata": {},
     "output_type": "execute_result"
    }
   ],
   "source": [
    "type(d)"
   ]
  },
  {
   "cell_type": "code",
   "execution_count": 15,
   "id": "ef06bb93",
   "metadata": {},
   "outputs": [
    {
     "data": {
      "text/plain": [
       "'Jayasree'"
      ]
     },
     "execution_count": 15,
     "metadata": {},
     "output_type": "execute_result"
    }
   ],
   "source": [
    "d[\"name\"]"
   ]
  },
  {
   "cell_type": "code",
   "execution_count": 16,
   "id": "d2adbd67",
   "metadata": {},
   "outputs": [],
   "source": [
    "l=[3,4,\"jayasree\",\"niharika\",\"lahari\",6.7,True]"
   ]
  },
  {
   "cell_type": "code",
   "execution_count": 17,
   "id": "0f33ebea",
   "metadata": {},
   "outputs": [
    {
     "data": {
      "text/plain": [
       "'lahari'"
      ]
     },
     "execution_count": 17,
     "metadata": {},
     "output_type": "execute_result"
    }
   ],
   "source": [
    "l[4]"
   ]
  },
  {
   "cell_type": "code",
   "execution_count": 18,
   "id": "8fca1fe4",
   "metadata": {},
   "outputs": [
    {
     "data": {
      "text/plain": [
       "True"
      ]
     },
     "execution_count": 18,
     "metadata": {},
     "output_type": "execute_result"
    }
   ],
   "source": [
    "l[-1]"
   ]
  },
  {
   "cell_type": "code",
   "execution_count": 19,
   "id": "1fb735b1",
   "metadata": {},
   "outputs": [
    {
     "data": {
      "text/plain": [
       "3"
      ]
     },
     "execution_count": 19,
     "metadata": {},
     "output_type": "execute_result"
    }
   ],
   "source": [
    "l[-7]"
   ]
  },
  {
   "cell_type": "code",
   "execution_count": 20,
   "id": "bd45c7f2",
   "metadata": {},
   "outputs": [
    {
     "data": {
      "text/plain": [
       "'jayasree'"
      ]
     },
     "execution_count": 20,
     "metadata": {},
     "output_type": "execute_result"
    }
   ],
   "source": [
    "l[2]"
   ]
  },
  {
   "cell_type": "code",
   "execution_count": 21,
   "id": "96ed4bd2",
   "metadata": {},
   "outputs": [
    {
     "data": {
      "text/plain": [
       "[3, 4, 'jayasree', 'niharika']"
      ]
     },
     "execution_count": 21,
     "metadata": {},
     "output_type": "execute_result"
    }
   ],
   "source": [
    "l[0:4]"
   ]
  },
  {
   "cell_type": "code",
   "execution_count": 22,
   "id": "25c26353",
   "metadata": {},
   "outputs": [
    {
     "data": {
      "text/plain": [
       "[3, 'niharika', True]"
      ]
     },
     "execution_count": 22,
     "metadata": {},
     "output_type": "execute_result"
    }
   ],
   "source": [
    "l[0:7:3]"
   ]
  },
  {
   "cell_type": "code",
   "execution_count": 25,
   "id": "d33793d1",
   "metadata": {},
   "outputs": [
    {
     "data": {
      "text/plain": [
       "[]"
      ]
     },
     "execution_count": 25,
     "metadata": {},
     "output_type": "execute_result"
    }
   ],
   "source": [
    "l[0:7:-1]"
   ]
  },
  {
   "cell_type": "code",
   "execution_count": 27,
   "id": "0cc83d58",
   "metadata": {},
   "outputs": [
    {
     "data": {
      "text/plain": [
       "[True, 'lahari', 'jayasree', 3]"
      ]
     },
     "execution_count": 27,
     "metadata": {},
     "output_type": "execute_result"
    }
   ],
   "source": [
    "l[-1:-100:-2]"
   ]
  },
  {
   "cell_type": "code",
   "execution_count": 28,
   "id": "1e9b7ca3",
   "metadata": {},
   "outputs": [],
   "source": [
    "l.append(\"sravya\")"
   ]
  },
  {
   "cell_type": "code",
   "execution_count": 29,
   "id": "8d840fbc",
   "metadata": {},
   "outputs": [
    {
     "data": {
      "text/plain": [
       "[3, 4, 'jayasree', 'niharika', 'lahari', 6.7, True, 'sravya']"
      ]
     },
     "execution_count": 29,
     "metadata": {},
     "output_type": "execute_result"
    }
   ],
   "source": [
    "l"
   ]
  },
  {
   "cell_type": "code",
   "execution_count": 30,
   "id": "2c863364",
   "metadata": {},
   "outputs": [
    {
     "data": {
      "text/plain": [
       "1"
      ]
     },
     "execution_count": 30,
     "metadata": {},
     "output_type": "execute_result"
    }
   ],
   "source": [
    "l.count(3)"
   ]
  },
  {
   "cell_type": "code",
   "execution_count": 31,
   "id": "3fae585f",
   "metadata": {},
   "outputs": [],
   "source": [
    "l.append(\"4\")"
   ]
  },
  {
   "cell_type": "code",
   "execution_count": 32,
   "id": "b9695375",
   "metadata": {},
   "outputs": [
    {
     "data": {
      "text/plain": [
       "[3, 4, 'jayasree', 'niharika', 'lahari', 6.7, True, 'sravya', '4']"
      ]
     },
     "execution_count": 32,
     "metadata": {},
     "output_type": "execute_result"
    }
   ],
   "source": [
    "l"
   ]
  },
  {
   "cell_type": "code",
   "execution_count": 33,
   "id": "b474a116",
   "metadata": {},
   "outputs": [
    {
     "data": {
      "text/plain": [
       "1"
      ]
     },
     "execution_count": 33,
     "metadata": {},
     "output_type": "execute_result"
    }
   ],
   "source": [
    "l.count(4)"
   ]
  },
  {
   "cell_type": "code",
   "execution_count": 34,
   "id": "aa18688f",
   "metadata": {},
   "outputs": [],
   "source": [
    "l.extend(\"akshitha\")"
   ]
  },
  {
   "cell_type": "code",
   "execution_count": 35,
   "id": "27b36a26",
   "metadata": {},
   "outputs": [
    {
     "data": {
      "text/plain": [
       "[3,\n",
       " 4,\n",
       " 'jayasree',\n",
       " 'niharika',\n",
       " 'lahari',\n",
       " 6.7,\n",
       " True,\n",
       " 'sravya',\n",
       " '4',\n",
       " 'a',\n",
       " 'k',\n",
       " 's',\n",
       " 'h',\n",
       " 'i',\n",
       " 't',\n",
       " 'h',\n",
       " 'a']"
      ]
     },
     "execution_count": 35,
     "metadata": {},
     "output_type": "execute_result"
    }
   ],
   "source": [
    "l"
   ]
  },
  {
   "cell_type": "code",
   "execution_count": 36,
   "id": "a0c8e39f",
   "metadata": {},
   "outputs": [],
   "source": [
    "l.append(\"jayasree\")"
   ]
  },
  {
   "cell_type": "code",
   "execution_count": 37,
   "id": "6f583527",
   "metadata": {},
   "outputs": [
    {
     "data": {
      "text/plain": [
       "[3,\n",
       " 4,\n",
       " 'jayasree',\n",
       " 'niharika',\n",
       " 'lahari',\n",
       " 6.7,\n",
       " True,\n",
       " 'sravya',\n",
       " '4',\n",
       " 'a',\n",
       " 'k',\n",
       " 's',\n",
       " 'h',\n",
       " 'i',\n",
       " 't',\n",
       " 'h',\n",
       " 'a',\n",
       " 'jayasree']"
      ]
     },
     "execution_count": 37,
     "metadata": {},
     "output_type": "execute_result"
    }
   ],
   "source": [
    "l"
   ]
  },
  {
   "cell_type": "code",
   "execution_count": 38,
   "id": "b819d155",
   "metadata": {},
   "outputs": [],
   "source": [
    "l.append([\"jayasree\",5,True])"
   ]
  },
  {
   "cell_type": "code",
   "execution_count": 39,
   "id": "206a71f3",
   "metadata": {},
   "outputs": [
    {
     "data": {
      "text/plain": [
       "[3,\n",
       " 4,\n",
       " 'jayasree',\n",
       " 'niharika',\n",
       " 'lahari',\n",
       " 6.7,\n",
       " True,\n",
       " 'sravya',\n",
       " '4',\n",
       " 'a',\n",
       " 'k',\n",
       " 's',\n",
       " 'h',\n",
       " 'i',\n",
       " 't',\n",
       " 'h',\n",
       " 'a',\n",
       " 'jayasree',\n",
       " ['jaysree', 5, True]]"
      ]
     },
     "execution_count": 39,
     "metadata": {},
     "output_type": "execute_result"
    }
   ],
   "source": [
    "l"
   ]
  },
  {
   "cell_type": "code",
   "execution_count": 40,
   "id": "cbddcbd6",
   "metadata": {},
   "outputs": [
    {
     "data": {
      "text/plain": [
       "['jaysree', 5, True]"
      ]
     },
     "execution_count": 40,
     "metadata": {},
     "output_type": "execute_result"
    }
   ],
   "source": [
    "l.pop()"
   ]
  },
  {
   "cell_type": "code",
   "execution_count": 41,
   "id": "3c3bce49",
   "metadata": {},
   "outputs": [
    {
     "data": {
      "text/plain": [
       "3"
      ]
     },
     "execution_count": 41,
     "metadata": {},
     "output_type": "execute_result"
    }
   ],
   "source": [
    "l.pop(0)"
   ]
  },
  {
   "cell_type": "code",
   "execution_count": 42,
   "id": "72a39f41",
   "metadata": {},
   "outputs": [
    {
     "data": {
      "text/plain": [
       "[4,\n",
       " 'jayasree',\n",
       " 'niharika',\n",
       " 'lahari',\n",
       " 6.7,\n",
       " True,\n",
       " 'sravya',\n",
       " '4',\n",
       " 'a',\n",
       " 'k',\n",
       " 's',\n",
       " 'h',\n",
       " 'i',\n",
       " 't',\n",
       " 'h',\n",
       " 'a',\n",
       " 'jayasree']"
      ]
     },
     "execution_count": 42,
     "metadata": {},
     "output_type": "execute_result"
    }
   ],
   "source": [
    "l"
   ]
  },
  {
   "cell_type": "code",
   "execution_count": 43,
   "id": "df20d7fc",
   "metadata": {},
   "outputs": [],
   "source": [
    "l.remove(\"sravya\")"
   ]
  },
  {
   "cell_type": "code",
   "execution_count": 44,
   "id": "f736f132",
   "metadata": {},
   "outputs": [
    {
     "data": {
      "text/plain": [
       "[4,\n",
       " 'jayasree',\n",
       " 'niharika',\n",
       " 'lahari',\n",
       " 6.7,\n",
       " True,\n",
       " '4',\n",
       " 'a',\n",
       " 'k',\n",
       " 's',\n",
       " 'h',\n",
       " 'i',\n",
       " 't',\n",
       " 'h',\n",
       " 'a',\n",
       " 'jayasree']"
      ]
     },
     "execution_count": 44,
     "metadata": {},
     "output_type": "execute_result"
    }
   ],
   "source": [
    "l"
   ]
  },
  {
   "cell_type": "code",
   "execution_count": 45,
   "id": "aa5d738f",
   "metadata": {},
   "outputs": [],
   "source": [
    "l1=[3,4,\"jayasree\",\"niharika\",\"lahari\",6.7,True]"
   ]
  },
  {
   "cell_type": "code",
   "execution_count": 46,
   "id": "bb48a3ff",
   "metadata": {},
   "outputs": [
    {
     "ename": "TypeError",
     "evalue": "'>' not supported between instances of 'str' and 'int'",
     "output_type": "error",
     "traceback": [
      "\u001b[1;31m---------------------------------------------------------------------------\u001b[0m",
      "\u001b[1;31mTypeError\u001b[0m                                 Traceback (most recent call last)",
      "Input \u001b[1;32mIn [46]\u001b[0m, in \u001b[0;36m<cell line: 1>\u001b[1;34m()\u001b[0m\n\u001b[1;32m----> 1\u001b[0m \u001b[38;5;28;43mmax\u001b[39;49m\u001b[43m(\u001b[49m\u001b[43ml1\u001b[49m\u001b[43m)\u001b[49m\n",
      "\u001b[1;31mTypeError\u001b[0m: '>' not supported between instances of 'str' and 'int'"
     ]
    }
   ],
   "source": [
    "max(l1)"
   ]
  },
  {
   "cell_type": "code",
   "execution_count": 47,
   "id": "c4c28a06",
   "metadata": {},
   "outputs": [],
   "source": [
    "l2=[2,3,4,5,100]"
   ]
  },
  {
   "cell_type": "code",
   "execution_count": 48,
   "id": "c9c60f06",
   "metadata": {},
   "outputs": [
    {
     "data": {
      "text/plain": [
       "100"
      ]
     },
     "execution_count": 48,
     "metadata": {},
     "output_type": "execute_result"
    }
   ],
   "source": [
    "max(l2)"
   ]
  },
  {
   "cell_type": "code",
   "execution_count": 49,
   "id": "c7c75792",
   "metadata": {},
   "outputs": [],
   "source": [
    "l3=[\"jayasree\",\"niharika\",\"lahari\"]"
   ]
  },
  {
   "cell_type": "code",
   "execution_count": 50,
   "id": "f0f642b8",
   "metadata": {},
   "outputs": [
    {
     "data": {
      "text/plain": [
       "'niharika'"
      ]
     },
     "execution_count": 50,
     "metadata": {},
     "output_type": "execute_result"
    }
   ],
   "source": [
    "max(l3)"
   ]
  },
  {
   "cell_type": "code",
   "execution_count": 51,
   "id": "6cc4f824",
   "metadata": {},
   "outputs": [
    {
     "data": {
      "text/plain": [
       "'jayasree'"
      ]
     },
     "execution_count": 51,
     "metadata": {},
     "output_type": "execute_result"
    }
   ],
   "source": [
    "min(l3)"
   ]
  },
  {
   "cell_type": "code",
   "execution_count": 52,
   "id": "a6b09465",
   "metadata": {},
   "outputs": [],
   "source": [
    "l4=[\"jayasree\",\"NIAHRIKA\"]"
   ]
  },
  {
   "cell_type": "code",
   "execution_count": 53,
   "id": "726b6314",
   "metadata": {},
   "outputs": [
    {
     "data": {
      "text/plain": [
       "'jayasree'"
      ]
     },
     "execution_count": 53,
     "metadata": {},
     "output_type": "execute_result"
    }
   ],
   "source": [
    "max(l4)"
   ]
  },
  {
   "cell_type": "code",
   "execution_count": 54,
   "id": "71513329",
   "metadata": {},
   "outputs": [
    {
     "data": {
      "text/plain": [
       "'NIAHRIKA'"
      ]
     },
     "execution_count": 54,
     "metadata": {},
     "output_type": "execute_result"
    }
   ],
   "source": [
    "min(l4)"
   ]
  },
  {
   "cell_type": "code",
   "execution_count": 59,
   "id": "0853588e",
   "metadata": {},
   "outputs": [],
   "source": [
    "l5=[\"j\",\"a\",\"y\",\"a\",\"J\",\"A\",\"Y\",\"A\"]"
   ]
  },
  {
   "cell_type": "code",
   "execution_count": 60,
   "id": "d683a810",
   "metadata": {},
   "outputs": [
    {
     "data": {
      "text/plain": [
       "'y'"
      ]
     },
     "execution_count": 60,
     "metadata": {},
     "output_type": "execute_result"
    }
   ],
   "source": [
    "max(l5)"
   ]
  },
  {
   "cell_type": "code",
   "execution_count": 61,
   "id": "d82becca",
   "metadata": {},
   "outputs": [
    {
     "data": {
      "text/plain": [
       "'A'"
      ]
     },
     "execution_count": 61,
     "metadata": {},
     "output_type": "execute_result"
    }
   ],
   "source": [
    "min(l5)"
   ]
  },
  {
   "cell_type": "code",
   "execution_count": 62,
   "id": "c7e28d10",
   "metadata": {},
   "outputs": [],
   "source": [
    "l5[0]=\"jayasree\""
   ]
  },
  {
   "cell_type": "code",
   "execution_count": 63,
   "id": "ccea6737",
   "metadata": {},
   "outputs": [
    {
     "data": {
      "text/plain": [
       "['jayasree', 'a', 'y', 'a', 'J', 'A', 'Y', 'A']"
      ]
     },
     "execution_count": 63,
     "metadata": {},
     "output_type": "execute_result"
    }
   ],
   "source": [
    "l5"
   ]
  },
  {
   "cell_type": "code",
   "execution_count": 64,
   "id": "defe4988",
   "metadata": {},
   "outputs": [],
   "source": [
    "l6=(\"jayasree\",\"niharika\")"
   ]
  },
  {
   "cell_type": "code",
   "execution_count": 65,
   "id": "19b66c6d",
   "metadata": {},
   "outputs": [
    {
     "ename": "TypeError",
     "evalue": "'tuple' object does not support item assignment",
     "output_type": "error",
     "traceback": [
      "\u001b[1;31m---------------------------------------------------------------------------\u001b[0m",
      "\u001b[1;31mTypeError\u001b[0m                                 Traceback (most recent call last)",
      "Input \u001b[1;32mIn [65]\u001b[0m, in \u001b[0;36m<cell line: 1>\u001b[1;34m()\u001b[0m\n\u001b[1;32m----> 1\u001b[0m l6[\u001b[38;5;241m0\u001b[39m]\u001b[38;5;241m=\u001b[39m\u001b[38;5;124m\"\u001b[39m\u001b[38;5;124mlahari\u001b[39m\u001b[38;5;124m\"\u001b[39m\n",
      "\u001b[1;31mTypeError\u001b[0m: 'tuple' object does not support item assignment"
     ]
    }
   ],
   "source": [
    "l6[0]=\"lahari\""
   ]
  },
  {
   "cell_type": "markdown",
   "id": "dbb8abcf",
   "metadata": {},
   "source": [
    "tupple is immutable,list is mutable"
   ]
  },
  {
   "cell_type": "code",
   "execution_count": 66,
   "id": "2c460a4c",
   "metadata": {},
   "outputs": [
    {
     "data": {
      "text/plain": [
       "0"
      ]
     },
     "execution_count": 66,
     "metadata": {},
     "output_type": "execute_result"
    }
   ],
   "source": [
    "l6.index(\"jayasree\")"
   ]
  },
  {
   "cell_type": "code",
   "execution_count": 67,
   "id": "921534ca",
   "metadata": {},
   "outputs": [],
   "source": [
    "str=\"challa\""
   ]
  },
  {
   "cell_type": "code",
   "execution_count": 68,
   "id": "3b87479f",
   "metadata": {},
   "outputs": [
    {
     "data": {
      "text/plain": [
       "'a'"
      ]
     },
     "execution_count": 68,
     "metadata": {},
     "output_type": "execute_result"
    }
   ],
   "source": [
    "str[2]"
   ]
  },
  {
   "cell_type": "code",
   "execution_count": 69,
   "id": "9268e70f",
   "metadata": {},
   "outputs": [
    {
     "ename": "TypeError",
     "evalue": "'str' object does not support item assignment",
     "output_type": "error",
     "traceback": [
      "\u001b[1;31m---------------------------------------------------------------------------\u001b[0m",
      "\u001b[1;31mTypeError\u001b[0m                                 Traceback (most recent call last)",
      "Input \u001b[1;32mIn [69]\u001b[0m, in \u001b[0;36m<cell line: 1>\u001b[1;34m()\u001b[0m\n\u001b[1;32m----> 1\u001b[0m \u001b[38;5;28mstr\u001b[39m[\u001b[38;5;241m2\u001b[39m]\u001b[38;5;241m=\u001b[39m\u001b[38;5;124m\"\u001b[39m\u001b[38;5;124mr\u001b[39m\u001b[38;5;124m\"\u001b[39m\n",
      "\u001b[1;31mTypeError\u001b[0m: 'str' object does not support item assignment"
     ]
    }
   ],
   "source": [
    "str[2]=\"r\""
   ]
  },
  {
   "cell_type": "code",
   "execution_count": 70,
   "id": "86299267",
   "metadata": {},
   "outputs": [],
   "source": [
    "l7=(3,4,\"jayasree\",\"niharika\",\"lahari\",6.7,True)"
   ]
  },
  {
   "cell_type": "code",
   "execution_count": 71,
   "id": "1e3e2014",
   "metadata": {},
   "outputs": [
    {
     "ename": "TypeError",
     "evalue": "can only concatenate tuple (not \"int\") to tuple",
     "output_type": "error",
     "traceback": [
      "\u001b[1;31m---------------------------------------------------------------------------\u001b[0m",
      "\u001b[1;31mTypeError\u001b[0m                                 Traceback (most recent call last)",
      "Input \u001b[1;32mIn [71]\u001b[0m, in \u001b[0;36m<cell line: 1>\u001b[1;34m()\u001b[0m\n\u001b[1;32m----> 1\u001b[0m \u001b[43ml7\u001b[49m\u001b[38;5;241;43m+\u001b[39;49m\u001b[38;5;241;43m32\u001b[39;49m\n",
      "\u001b[1;31mTypeError\u001b[0m: can only concatenate tuple (not \"int\") to tuple"
     ]
    }
   ],
   "source": [
    "l7+32"
   ]
  },
  {
   "cell_type": "code",
   "execution_count": 72,
   "id": "c8b56596",
   "metadata": {},
   "outputs": [
    {
     "ename": "TypeError",
     "evalue": "can only concatenate tuple (not \"str\") to tuple",
     "output_type": "error",
     "traceback": [
      "\u001b[1;31m---------------------------------------------------------------------------\u001b[0m",
      "\u001b[1;31mTypeError\u001b[0m                                 Traceback (most recent call last)",
      "Input \u001b[1;32mIn [72]\u001b[0m, in \u001b[0;36m<cell line: 1>\u001b[1;34m()\u001b[0m\n\u001b[1;32m----> 1\u001b[0m \u001b[43ml7\u001b[49m\u001b[38;5;241;43m+\u001b[39;49m\u001b[43m(\u001b[49m\u001b[38;5;124;43m\"\u001b[39;49m\u001b[38;5;124;43ms\u001b[39;49m\u001b[38;5;124;43m\"\u001b[39;49m\u001b[43m)\u001b[49m\n",
      "\u001b[1;31mTypeError\u001b[0m: can only concatenate tuple (not \"str\") to tuple"
     ]
    }
   ],
   "source": [
    "l7+(\"s\")"
   ]
  },
  {
   "cell_type": "code",
   "execution_count": 73,
   "id": "2ef5013e",
   "metadata": {},
   "outputs": [],
   "source": [
    "l8=[3,4,\"jayasree\",\"niharika\",\"lahari\",6.7,True]"
   ]
  },
  {
   "cell_type": "code",
   "execution_count": 75,
   "id": "cb5132ae",
   "metadata": {},
   "outputs": [
    {
     "data": {
      "text/plain": [
       "[3, 4, 'jayasree', 'niharika', 'lahari', 6.7, True, 's']"
      ]
     },
     "execution_count": 75,
     "metadata": {},
     "output_type": "execute_result"
    }
   ],
   "source": [
    "l8+[\"s\"]"
   ]
  },
  {
   "cell_type": "code",
   "execution_count": 76,
   "id": "b78f8324",
   "metadata": {},
   "outputs": [],
   "source": [
    "l8.insert(5,\"jayasree\")"
   ]
  },
  {
   "cell_type": "code",
   "execution_count": 77,
   "id": "a3227682",
   "metadata": {},
   "outputs": [
    {
     "data": {
      "text/plain": [
       "[3, 4, 'jayasree', 'niharika', 'lahari', 'jayasree', 6.7, True]"
      ]
     },
     "execution_count": 77,
     "metadata": {},
     "output_type": "execute_result"
    }
   ],
   "source": [
    "l8"
   ]
  },
  {
   "cell_type": "code",
   "execution_count": 80,
   "id": "00347b9a",
   "metadata": {},
   "outputs": [],
   "source": [
    "l8.insert(-1,\"lahari\")"
   ]
  },
  {
   "cell_type": "code",
   "execution_count": 81,
   "id": "2314df18",
   "metadata": {},
   "outputs": [
    {
     "data": {
      "text/plain": [
       "[3,\n",
       " 4,\n",
       " 'jayasree',\n",
       " 'niharika',\n",
       " 'lahari',\n",
       " 'jayasree',\n",
       " 6.7,\n",
       " 'lahari',\n",
       " 'lahari',\n",
       " True]"
      ]
     },
     "execution_count": 81,
     "metadata": {},
     "output_type": "execute_result"
    }
   ],
   "source": [
    "l8"
   ]
  },
  {
   "cell_type": "code",
   "execution_count": 82,
   "id": "e8eb60a3",
   "metadata": {},
   "outputs": [],
   "source": [
    "l8.insert(-2,100)"
   ]
  },
  {
   "cell_type": "code",
   "execution_count": 83,
   "id": "6cd529c5",
   "metadata": {},
   "outputs": [
    {
     "data": {
      "text/plain": [
       "[3,\n",
       " 4,\n",
       " 'jayasree',\n",
       " 'niharika',\n",
       " 'lahari',\n",
       " 'jayasree',\n",
       " 6.7,\n",
       " 'lahari',\n",
       " 100,\n",
       " 'lahari',\n",
       " True]"
      ]
     },
     "execution_count": 83,
     "metadata": {},
     "output_type": "execute_result"
    }
   ],
   "source": [
    "l8"
   ]
  },
  {
   "cell_type": "code",
   "execution_count": 84,
   "id": "0c60296d",
   "metadata": {},
   "outputs": [],
   "source": [
    "l8.append([1,10,\"sravya\"])"
   ]
  },
  {
   "cell_type": "code",
   "execution_count": 88,
   "id": "8fff4f4c",
   "metadata": {},
   "outputs": [
    {
     "data": {
      "text/plain": [
       "[3,\n",
       " 4,\n",
       " 'jayasree',\n",
       " 'niharika',\n",
       " 'jayasree',\n",
       " 6.7,\n",
       " 'lahari',\n",
       " 100,\n",
       " 'lahari',\n",
       " True,\n",
       " [1, 10, 'sravya']]"
      ]
     },
     "execution_count": 88,
     "metadata": {},
     "output_type": "execute_result"
    }
   ],
   "source": [
    "l8"
   ]
  },
  {
   "cell_type": "code",
   "execution_count": 86,
   "id": "5e82df78",
   "metadata": {},
   "outputs": [],
   "source": [
    "l8.remove(\"lahari\")"
   ]
  },
  {
   "cell_type": "code",
   "execution_count": 87,
   "id": "d1b654de",
   "metadata": {},
   "outputs": [
    {
     "data": {
      "text/plain": [
       "[3,\n",
       " 4,\n",
       " 'jayasree',\n",
       " 'niharika',\n",
       " 'jayasree',\n",
       " 6.7,\n",
       " 'lahari',\n",
       " 100,\n",
       " 'lahari',\n",
       " True,\n",
       " [1, 10, 'sravya']]"
      ]
     },
     "execution_count": 87,
     "metadata": {},
     "output_type": "execute_result"
    }
   ],
   "source": [
    "l8"
   ]
  },
  {
   "cell_type": "code",
   "execution_count": 89,
   "id": "8d999732",
   "metadata": {},
   "outputs": [],
   "source": [
    "d={\"name\":\"Jayasree\",\"class\":\"sec-1\",\"age\":18}"
   ]
  },
  {
   "cell_type": "code",
   "execution_count": 90,
   "id": "f6deb7f9",
   "metadata": {},
   "outputs": [
    {
     "data": {
      "text/plain": [
       "18"
      ]
     },
     "execution_count": 90,
     "metadata": {},
     "output_type": "execute_result"
    }
   ],
   "source": [
    "d[\"age\"]"
   ]
  }
 ],
 "metadata": {
  "kernelspec": {
   "display_name": "Python 3 (ipykernel)",
   "language": "python",
   "name": "python3"
  },
  "language_info": {
   "codemirror_mode": {
    "name": "ipython",
    "version": 3
   },
   "file_extension": ".py",
   "mimetype": "text/x-python",
   "name": "python",
   "nbconvert_exporter": "python",
   "pygments_lexer": "ipython3",
   "version": "3.10.5"
  }
 },
 "nbformat": 4,
 "nbformat_minor": 5
}
